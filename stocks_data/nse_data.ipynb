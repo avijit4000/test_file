{
 "cells": [
  {
   "cell_type": "code",
   "execution_count": 1,
   "metadata": {
    "collapsed": true,
    "pycharm": {
     "name": "#%%\n"
    }
   },
   "outputs": [
    {
     "name": "stdout",
     "output_type": "stream",
     "text": [
      "Collecting nsetools\n",
      "  Downloading nsetools-1.0.11-py3-none-any.whl (9.6 kB)\n",
      "Requirement already satisfied: six in c:\\users\\aviji\\appdata\\local\\programs\\python\\python311\\lib\\site-packages (from nsetools) (1.16.0)\n",
      "Collecting dateutils\n",
      "  Downloading dateutils-0.6.12-py2.py3-none-any.whl (5.7 kB)\n",
      "Requirement already satisfied: pytz in c:\\users\\aviji\\appdata\\local\\programs\\python\\python311\\lib\\site-packages (from dateutils->nsetools) (2023.3)\n",
      "Requirement already satisfied: python-dateutil in c:\\users\\aviji\\appdata\\local\\programs\\python\\python311\\lib\\site-packages (from dateutils->nsetools) (2.8.2)\n",
      "Installing collected packages: dateutils, nsetools\n",
      "Successfully installed dateutils-0.6.12 nsetools-1.0.11\n"
     ]
    },
    {
     "name": "stderr",
     "output_type": "stream",
     "text": [
      "WARNING: You are using pip version 21.3.1; however, version 23.2.1 is available.\n",
      "You should consider upgrading via the 'C:\\Users\\aviji\\AppData\\Local\\Programs\\pythonProject8\\Scripts\\python.exe -m pip install --upgrade pip' command.\n"
     ]
    }
   ],
   "source": [
    "!pip install nsetools"
   ]
  },
  {
   "cell_type": "code",
   "execution_count": 6,
   "outputs": [],
   "source": [
    "import pandas as pd, numpy as np"
   ],
   "metadata": {
    "collapsed": false,
    "pycharm": {
     "name": "#%%\n"
    }
   }
  },
  {
   "cell_type": "code",
   "execution_count": 9,
   "outputs": [
    {
     "ename": "ModuleNotFoundError",
     "evalue": "No module named 'nsetools'",
     "output_type": "error",
     "traceback": [
      "\u001B[1;31m---------------------------------------------------------------------------\u001B[0m",
      "\u001B[1;31mModuleNotFoundError\u001B[0m                       Traceback (most recent call last)",
      "Cell \u001B[1;32mIn[9], line 1\u001B[0m\n\u001B[1;32m----> 1\u001B[0m \u001B[38;5;28;01mfrom\u001B[39;00m \u001B[38;5;21;01mnsetools\u001B[39;00m \u001B[38;5;28;01mimport\u001B[39;00m Nse\n",
      "\u001B[1;31mModuleNotFoundError\u001B[0m: No module named 'nsetools'"
     ]
    }
   ],
   "source": [
    "from nsetools import Nse"
   ],
   "metadata": {
    "collapsed": false,
    "pycharm": {
     "name": "#%%\n"
    }
   }
  },
  {
   "cell_type": "code",
   "execution_count": null,
   "outputs": [],
   "source": [],
   "metadata": {
    "collapsed": false,
    "pycharm": {
     "name": "#%%\n"
    }
   }
  }
 ],
 "metadata": {
  "kernelspec": {
   "display_name": "Python 3",
   "language": "python",
   "name": "python3"
  },
  "language_info": {
   "codemirror_mode": {
    "name": "ipython",
    "version": 2
   },
   "file_extension": ".py",
   "mimetype": "text/x-python",
   "name": "python",
   "nbconvert_exporter": "python",
   "pygments_lexer": "ipython2",
   "version": "2.7.6"
  }
 },
 "nbformat": 4,
 "nbformat_minor": 0
}